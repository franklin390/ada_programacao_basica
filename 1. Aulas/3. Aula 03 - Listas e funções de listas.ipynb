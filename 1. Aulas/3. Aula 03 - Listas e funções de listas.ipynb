{
 "cells": [
  {
   "cell_type": "markdown",
   "id": "49b7e916",
   "metadata": {},
   "source": [
    "# **Aula 03 - Listas e funções de listas**\n",
    "\n",
    "***11 de novembro de 2022***"
   ]
  },
  {
   "cell_type": "markdown",
   "id": "2204dfce",
   "metadata": {},
   "source": [
    "---\n",
    "\n",
    "<p align=\"center\">\n",
    "  <img \n",
    "    src   = \"https://cdn-icons-png.flaticon.com/512/1006/1006363.png\" \n",
    "    style = \"\n",
    "      border: 0px solid rgba(0, 0, 0, 0.01);\n",
    "      border-radius: 70px; \n",
    "      width: 25%;\n",
    "      height: 25%;\n",
    "    \"\n",
    "  />\n",
    "</p>\n",
    "\n",
    "---"
   ]
  },
  {
   "cell_type": "markdown",
   "id": "a2ada0f8",
   "metadata": {
    "id": "oMMLO6tNS7fo"
   },
   "source": [
    "## **1. Operações condicionais**\n"
   ]
  },
  {
   "cell_type": "code",
   "execution_count": 2,
   "id": "233d00f7",
   "metadata": {
    "colab": {
     "base_uri": "https://localhost:8080/"
    },
    "id": "B3OPknVwS7fp",
    "outputId": "1144f21d-5619-456e-8270-63c6791b458a"
   },
   "outputs": [
    {
     "name": "stdout",
     "output_type": "stream",
     "text": [
      "5\n"
     ]
    }
   ],
   "source": [
    "# Definindo variáveis.\n",
    "\n",
    "dado_1 = 5\n",
    "dado_2 = 10\n",
    "\n",
    "# Verificando se o dado 1 é 1, 2 ou 5.\n",
    "\n",
    "if dado_1 in (1, 2, 5):\n",
    "    print(dado_1)\n",
    "else:\n",
    "    print('Dado não foi encontrado!')"
   ]
  },
  {
   "cell_type": "code",
   "execution_count": null,
   "id": "4e1d90e0",
   "metadata": {
    "colab": {
     "base_uri": "https://localhost:8080/"
    },
    "id": "JrN_x5TRI4XC",
    "outputId": "5ab3ebf9-eada-435d-f0e3-cacae0ac69cc"
   },
   "outputs": [
    {
     "name": "stdout",
     "output_type": "stream",
     "text": [
      "Dado não foi encontrado!\n"
     ]
    }
   ],
   "source": [
    "# Verificando se o dado 1 não é 1, 2 ou 5.\n",
    "\n",
    "if dado_1 not in (1, 2, 5):\n",
    "    print(dado_1)\n",
    "else:\n",
    "    print('Dado não foi encontrado!')"
   ]
  },
  {
   "cell_type": "code",
   "execution_count": null,
   "id": "b02e1411",
   "metadata": {
    "colab": {
     "base_uri": "https://localhost:8080/"
    },
    "id": "kjrV5sY0I-z_",
    "outputId": "d4fda176-b491-481c-af6e-edd7060dbf45"
   },
   "outputs": [
    {
     "name": "stdout",
     "output_type": "stream",
     "text": [
      "5\n"
     ]
    }
   ],
   "source": [
    "# Verificando se o dado 1 é igual a 5 ou menor 6.\n",
    "\n",
    "if dado_1 == 5 or dado_1 < 6:\n",
    "    print(dado_1)\n",
    "else:\n",
    "    print('Dado não foi encontrado!')"
   ]
  },
  {
   "cell_type": "code",
   "execution_count": 3,
   "id": "7f312d77",
   "metadata": {
    "colab": {
     "base_uri": "https://localhost:8080/"
    },
    "id": "Q9Xwc-BXJHqF",
    "outputId": "fe03b92a-0fef-4e27-d8fa-0c3a1565c2fa"
   },
   "outputs": [
    {
     "name": "stdout",
     "output_type": "stream",
     "text": [
      "5\n"
     ]
    }
   ],
   "source": [
    "# Operador ternário.\n",
    "\n",
    "print(dado_1) if dado_1 == 5 and dado_1 < 6 else print('Dado não foi encontrado!')\n"
   ]
  },
  {
   "cell_type": "code",
   "execution_count": null,
   "id": "dbb38abb",
   "metadata": {
    "colab": {
     "base_uri": "https://localhost:8080/"
    },
    "id": "h9d_-oiDJMka",
    "outputId": "e63b5f6a-d007-4ec4-e00a-124c2802384e"
   },
   "outputs": [
    {
     "name": "stdout",
     "output_type": "stream",
     "text": [
      "Segundo if: 5\n"
     ]
    }
   ],
   "source": [
    "# Verificando se o dado 1 é igual a 3 e menor 6.\n",
    "\n",
    "if dado_1 == 3 and dado_1 < 6:\n",
    "    print(f'Primeiro if: {dado_1}')\n",
    "\n",
    "# Verificando se o dado 1 é igual a 5.\n",
    "\n",
    "elif dado_1 == 5:\n",
    "    print(f'Segundo if: {dado_1}')\n",
    "\n",
    "else:\n",
    "    print('Dado não foi encontrado!')"
   ]
  },
  {
   "cell_type": "markdown",
   "id": "7bfafce6",
   "metadata": {
    "id": "6rX4NgyXS7fp"
   },
   "source": [
    "## **2. Estruturas de repetição**\n"
   ]
  },
  {
   "cell_type": "code",
   "execution_count": null,
   "id": "5ec68dd6",
   "metadata": {
    "colab": {
     "base_uri": "https://localhost:8080/"
    },
    "id": "qftbz3_IS7fp",
    "outputId": "c84e867f-f060-4d3a-852a-3751caa8cc23"
   },
   "outputs": [
    {
     "name": "stdout",
     "output_type": "stream",
     "text": [
      "0\n",
      "1\n",
      "2\n",
      "3\n",
      "4\n",
      "5\n",
      "6\n",
      "7\n",
      "8\n",
      "9\n"
     ]
    }
   ],
   "source": [
    "# Criando um loop for para iterar o range de 10 elementos.\n",
    "\n",
    "for i in range(10):\n",
    "    print(i)"
   ]
  },
  {
   "cell_type": "code",
   "execution_count": null,
   "id": "10f16b13",
   "metadata": {
    "colab": {
     "base_uri": "https://localhost:8080/"
    },
    "id": "OYBUyfSbKI1y",
    "outputId": "54729441-6cf3-40a0-cd89-34e25777c93c"
   },
   "outputs": [
    {
     "name": "stdout",
     "output_type": "stream",
     "text": [
      "0\n",
      "2\n",
      "4\n",
      "6\n",
      "8\n"
     ]
    }
   ],
   "source": [
    "# Criando um loop para imprimir os valores do range que se inicia em 0 e termina em 10 saltando de 2 em 2 elementos.\n",
    "\n",
    "for i in range(0, 10, 2):\n",
    "    print(i)"
   ]
  },
  {
   "cell_type": "code",
   "execution_count": null,
   "id": "3912c1bd",
   "metadata": {
    "colab": {
     "base_uri": "https://localhost:8080/"
    },
    "id": "sa_xvODQLJ3A",
    "outputId": "c219e43b-269d-4d86-9320-301c7cf5029d"
   },
   "outputs": [
    {
     "name": "stdout",
     "output_type": "stream",
     "text": [
      "0\n",
      "1\n",
      "2\n",
      "3\n",
      "4\n",
      "5\n"
     ]
    }
   ],
   "source": [
    "# Criando um loop while.\n",
    "\n",
    "contador = 0\n",
    "\n",
    "while True:\n",
    "\n",
    "    if contador <= 5:\n",
    "        print(contador)\n",
    "        contador += 1\n",
    "    else:\n",
    "        break"
   ]
  },
  {
   "cell_type": "markdown",
   "id": "equal-surfing",
   "metadata": {},
   "source": [
    "## **3. Listas**"
   ]
  },
  {
   "cell_type": "markdown",
   "id": "illegal-interest",
   "metadata": {},
   "source": [
    "Listas são coleções de objetos em Python."
   ]
  },
  {
   "cell_type": "code",
   "execution_count": 7,
   "id": "religious-grant",
   "metadata": {},
   "outputs": [
    {
     "name": "stdout",
     "output_type": "stream",
     "text": [
      "[]\n",
      "[]\n",
      "[1, 4.6, -7, 8, 10, 'vinte']\n"
     ]
    }
   ],
   "source": [
    "# Criando uma lista vazia.\n",
    "\n",
    "primeira_lista = [] \n",
    "print(primeira_lista)\n",
    "\n",
    "# Criando uma lista vazia.\n",
    "\n",
    "segunda_lista = list() \n",
    "print(segunda_lista)\n",
    "\n",
    "# Criando lista com objetos - valores int, float, str\n",
    "\n",
    "terceira_lista = [1, 4.6, -7, 8, 10, 'vinte'] \n",
    "print(terceira_lista)"
   ]
  },
  {
   "cell_type": "markdown",
   "id": "former-deposit",
   "metadata": {},
   "source": [
    "A lista é constituída por valores e índices (a indexação em Python começa em zero)."
   ]
  },
  {
   "cell_type": "markdown",
   "id": "applied-swedish",
   "metadata": {},
   "source": [
    "* **elemento**: [1, 4.6, -7,  8,  10,  'vinte']  \n",
    "* **índice**:   [0, 1, 2, 3, 4, 5]"
   ]
  },
  {
   "cell_type": "markdown",
   "id": "seventh-guide",
   "metadata": {},
   "source": [
    "A lista é mutável. Ou seja, podemos modificar os valores que a constituem."
   ]
  },
  {
   "cell_type": "code",
   "execution_count": 8,
   "id": "becoming-administration",
   "metadata": {},
   "outputs": [
    {
     "name": "stdout",
     "output_type": "stream",
     "text": [
      "[1, 4.6, -7, 'oito', 10, 'vinte']\n"
     ]
    }
   ],
   "source": [
    "# Lista de valores.\n",
    "\n",
    "terceira_lista = [1, 4.6, -7, 8, 10, 'vinte'] \n",
    "\n",
    "# Acessando o valor do índice 3.\n",
    "\n",
    "terceira_lista[3] = 'oito' \n",
    "\n",
    "print(terceira_lista)"
   ]
  },
  {
   "cell_type": "markdown",
   "id": "japanese-cartoon",
   "metadata": {},
   "source": [
    "- Quebrando as listas"
   ]
  },
  {
   "cell_type": "markdown",
   "id": "chief-transcription",
   "metadata": {},
   "source": [
    "Podemos criar subconjuntos (slices) das listas."
   ]
  },
  {
   "cell_type": "code",
   "execution_count": 10,
   "id": "indie-acting",
   "metadata": {},
   "outputs": [],
   "source": [
    "# Declarando lista de valores ímpares. \n",
    "\n",
    "impares = [1, 3, 5, 7, 9, 11, 13, 15, 17]"
   ]
  },
  {
   "cell_type": "code",
   "execution_count": 11,
   "id": "ideal-location",
   "metadata": {},
   "outputs": [
    {
     "data": {
      "text/plain": [
       "13"
      ]
     },
     "execution_count": 11,
     "metadata": {},
     "output_type": "execute_result"
    }
   ],
   "source": [
    "# Acessando o número nº13 da lista -> Capturando o dado pelo índice.\n",
    "\n",
    "impares[6]"
   ]
  },
  {
   "cell_type": "code",
   "execution_count": 12,
   "id": "pacific-chambers",
   "metadata": {},
   "outputs": [
    {
     "data": {
      "text/plain": [
       "1"
      ]
     },
     "execution_count": 12,
     "metadata": {},
     "output_type": "execute_result"
    }
   ],
   "source": [
    "# Capturando o primeiro elemento da lista.\n",
    "\n",
    "impares[0] "
   ]
  },
  {
   "cell_type": "code",
   "execution_count": 16,
   "id": "vulnerable-university",
   "metadata": {},
   "outputs": [
    {
     "data": {
      "text/plain": [
       "[7, 9, 11]"
      ]
     },
     "execution_count": 16,
     "metadata": {},
     "output_type": "execute_result"
    }
   ],
   "source": [
    "# Capturando os dados entre os índices 3 e 6 (o último índice é exclusivo).\n",
    "\n",
    "impares[3:6] "
   ]
  },
  {
   "cell_type": "code",
   "execution_count": 17,
   "id": "north-architecture",
   "metadata": {},
   "outputs": [],
   "source": [
    "# Declarando lista de valores ímpares. \n",
    "\n",
    "impares = [1, 3, 5, 7, 9, 11, 13, 15, 17]"
   ]
  },
  {
   "cell_type": "code",
   "execution_count": 20,
   "id": "immediate-genius",
   "metadata": {},
   "outputs": [
    {
     "data": {
      "text/plain": [
       "[1, 3, 5, 7, 9, 11]"
      ]
     },
     "execution_count": 20,
     "metadata": {},
     "output_type": "execute_result"
    }
   ],
   "source": [
    "# Outra forma de quebrar a lista é usando valores do início ou até o fim\n",
    "\n",
    "impares[:6] # Seria equivalente a 0:6."
   ]
  },
  {
   "cell_type": "code",
   "execution_count": 22,
   "id": "improving-israeli",
   "metadata": {},
   "outputs": [
    {
     "data": {
      "text/plain": [
       "[11, 13, 15, 17]"
      ]
     },
     "execution_count": 22,
     "metadata": {},
     "output_type": "execute_result"
    }
   ],
   "source": [
    "# Seria equivalente a 5:8.\n",
    "\n",
    "impares[5:] "
   ]
  },
  {
   "cell_type": "code",
   "execution_count": 3,
   "id": "following-business",
   "metadata": {},
   "outputs": [
    {
     "data": {
      "text/plain": [
       "[3, 5, 7, 9]"
      ]
     },
     "execution_count": 3,
     "metadata": {},
     "output_type": "execute_result"
    }
   ],
   "source": [
    "numeros = [0, 1, 2, 3, 4, 5, 6, 7, 8, 9, 10, 11, 12, 13, 14, 15]\n",
    "\n",
    "# Saltando a captura dos dados de 3 em 3 índices partindo do índice 0 até o índice 10.\n",
    "\n",
    "numeros[3:10:3] # [índice inicial: índice final: Número de saltos]"
   ]
  },
  {
   "cell_type": "markdown",
   "id": "regulated-warrant",
   "metadata": {},
   "source": [
    "## **Percorrendo listas**"
   ]
  },
  {
   "cell_type": "code",
   "execution_count": 24,
   "id": "three-disposition",
   "metadata": {},
   "outputs": [],
   "source": [
    "# Criando lista de números pares.\n",
    "\n",
    "pares = [0, 2, 4, 6, 8]"
   ]
  },
  {
   "cell_type": "code",
   "execution_count": 26,
   "id": "known-liechtenstein",
   "metadata": {},
   "outputs": [
    {
     "name": "stdout",
     "output_type": "stream",
     "text": [
      "5\n"
     ]
    }
   ],
   "source": [
    "# Definindo o núemro de elementos da lista.\n",
    "\n",
    "tamanho = len(pares)\n",
    "\n",
    "print(tamanho)"
   ]
  },
  {
   "cell_type": "code",
   "execution_count": 28,
   "id": "focused-owner",
   "metadata": {},
   "outputs": [
    {
     "name": "stdout",
     "output_type": "stream",
     "text": [
      "0\n",
      "2\n",
      "4\n",
      "6\n",
      "8\n"
     ]
    }
   ],
   "source": [
    "# Percorrendo a lista índice a índice.\n",
    "\n",
    "for indice in range(tamanho):\n",
    "    print(pares[indice])"
   ]
  },
  {
   "cell_type": "code",
   "execution_count": 29,
   "id": "revised-clear",
   "metadata": {},
   "outputs": [
    {
     "name": "stdout",
     "output_type": "stream",
     "text": [
      "0\n",
      "2\n",
      "4\n",
      "6\n",
      "8\n"
     ]
    }
   ],
   "source": [
    "# Percorrendo a lista elemento a elemento.\n",
    "\n",
    "pares = [0, 2, 4, 6, 8]\n",
    "\n",
    "for elemento in pares:\n",
    "    print(elemento)"
   ]
  },
  {
   "cell_type": "code",
   "execution_count": 30,
   "id": "immune-discipline",
   "metadata": {},
   "outputs": [
    {
     "name": "stdout",
     "output_type": "stream",
     "text": [
      "0\n",
      "2\n",
      "4\n",
      "6\n",
      "8\n"
     ]
    }
   ],
   "source": [
    "# Executando a mesma operação acima, mas trocando o nome da variável.\n",
    "\n",
    "for item in pares:\n",
    "    print(item)"
   ]
  },
  {
   "cell_type": "code",
   "execution_count": 32,
   "id": "alike-malpractice",
   "metadata": {},
   "outputs": [
    {
     "name": "stdout",
     "output_type": "stream",
     "text": [
      "0\n",
      "2\n",
      "4\n",
      "6\n",
      "8\n"
     ]
    }
   ],
   "source": [
    "# Executando a mesma operação acima, mas trocando o nome da variável.\n",
    "\n",
    "for x in pares:\n",
    "    print(x)"
   ]
  },
  {
   "cell_type": "markdown",
   "id": "random-stack",
   "metadata": {},
   "source": [
    "# **Funções de listas**"
   ]
  },
  {
   "cell_type": "markdown",
   "id": "altered-amsterdam",
   "metadata": {},
   "source": [
    "- Adicionar elementos a lista;"
   ]
  },
  {
   "cell_type": "code",
   "execution_count": 35,
   "id": "contrary-journalism",
   "metadata": {},
   "outputs": [
    {
     "name": "stdout",
     "output_type": "stream",
     "text": [
      "[0, 2, 4, 6, 8, 10]\n"
     ]
    }
   ],
   "source": [
    "# Definindo lista de valores pares.\n",
    "\n",
    "pares = [0, 2, 4, 6, 8]\n",
    "\n",
    "# Incluir o número 10 nessa lista.\n",
    "\n",
    "pares.append(10) # Acrescentar o valor no final da lista.\n",
    "\n",
    "print(pares)"
   ]
  },
  {
   "cell_type": "code",
   "execution_count": null,
   "id": "6689ef1b",
   "metadata": {},
   "outputs": [],
   "source": [
    "# Acrescentando o valro 12 a lista.\n",
    "\n",
    "pares += [12]"
   ]
  },
  {
   "cell_type": "code",
   "execution_count": 36,
   "id": "completed-saying",
   "metadata": {},
   "outputs": [
    {
     "name": "stdout",
     "output_type": "stream",
     "text": [
      "[0, 2, 4, 6, 8, 10]\n"
     ]
    }
   ],
   "source": [
    "# Outra forma de adicionar um elemento é utilizando seu índice na lista.\n",
    "\n",
    "pares = [0, 2, 4, 8, 10]\n",
    "\n",
    "# Acrescentar o valor 6 na posição 3.\n",
    "\n",
    "pares.insert(3, 6) # A função insert precisa da posição seguida do valor que se deseja adicionar.\n",
    "\n",
    "print(pares)"
   ]
  },
  {
   "cell_type": "markdown",
   "id": "suspected-orange",
   "metadata": {},
   "source": [
    "- Remover um elemento da lista;"
   ]
  },
  {
   "cell_type": "code",
   "execution_count": 39,
   "id": "civic-screening",
   "metadata": {},
   "outputs": [
    {
     "name": "stdout",
     "output_type": "stream",
     "text": [
      "[1, 3, 5, 7, 9]\n"
     ]
    }
   ],
   "source": [
    "impares = [1, 3, 3, 5, 7, 9]\n",
    "\n",
    "impares.remove(3) # A função remove o valor - nesse caso a função 'remove' vai retirar o primeiro valor 3.\n",
    "\n",
    "print(impares)"
   ]
  },
  {
   "cell_type": "markdown",
   "id": "protecting-things",
   "metadata": {},
   "source": [
    "* Outra forma de remover um elemento;"
   ]
  },
  {
   "cell_type": "code",
   "execution_count": 40,
   "id": "treated-injury",
   "metadata": {},
   "outputs": [
    {
     "name": "stdout",
     "output_type": "stream",
     "text": [
      "[1, 3, 5, 7]\n"
     ]
    }
   ],
   "source": [
    "impares = [1, 3, 5, 7, 9]\n",
    "\n",
    "impares.pop(4) # A função pop remove o valor da posição, nesse caso o índice 4.\n",
    "\n",
    "print(impares)"
   ]
  },
  {
   "cell_type": "code",
   "execution_count": 42,
   "id": "loved-rental",
   "metadata": {},
   "outputs": [
    {
     "data": {
      "text/plain": [
       "8"
      ]
     },
     "execution_count": 42,
     "metadata": {},
     "output_type": "execute_result"
    }
   ],
   "source": [
    "variavel = [1, 3, 4, 8, 10]\n",
    "\n",
    "variavel.pop(3) # Mostra qual valor irá remover da posição dada."
   ]
  },
  {
   "cell_type": "code",
   "execution_count": 48,
   "id": "revolutionary-explanation",
   "metadata": {},
   "outputs": [
    {
     "name": "stdout",
     "output_type": "stream",
     "text": [
      "[1, 3, 4, 8, 10]\n",
      "3\n",
      "[1, 4, 8, 10]\n"
     ]
    }
   ],
   "source": [
    "# Outro exemplo.\n",
    "\n",
    "variavel = [1, 3, 4, 8, 10]\n",
    "\n",
    "print(variavel)\n",
    "print(variavel.pop(1))\n",
    "print(variavel)"
   ]
  },
  {
   "cell_type": "markdown",
   "id": "hundred-terrorist",
   "metadata": {},
   "source": [
    "**Atenção:** Tais funções alteram o valor da lista. Caso deseje salvar seu estado original, utilize a função *copy* ou a sintaxe *[:]* para copiar seus dados para outra variável."
   ]
  },
  {
   "cell_type": "code",
   "execution_count": 5,
   "id": "immune-booth",
   "metadata": {},
   "outputs": [
    {
     "name": "stdout",
     "output_type": "stream",
     "text": [
      "[12, 45, 78, 98, 100]\n",
      "[12, 45, 78, 98]\n",
      "[12, 45, 78, 98]\n",
      "[12, 45, 78, 98, 100]\n"
     ]
    }
   ],
   "source": [
    "lista1 = [12, 45, 78, 98]\n",
    "\n",
    "# Criando cópias da lista 1.\n",
    "\n",
    "lista2 = lista1[:]       # Alternativa 1.\n",
    "lista3 = lista1.copy()   # Alternativa 2.\n",
    "\n",
    "lista4 = lista1 # Aqui, só estamos danddo outro nome para lista1. Tudo o que acontecer com a lista 1, também irá acontecer com a lista 4.\n",
    "\n",
    "# Modificando a lista 1.\n",
    "\n",
    "lista1.append(100)\n",
    "\n",
    "# Exibindo resultados.\n",
    "\n",
    "print(lista1)\n",
    "print(lista2)\n",
    "print(lista3)\n",
    "print(lista4)"
   ]
  },
  {
   "cell_type": "markdown",
   "id": "powerful-mambo",
   "metadata": {},
   "source": [
    "- ordenar listas"
   ]
  },
  {
   "cell_type": "code",
   "execution_count": 57,
   "id": "sustainable-hazard",
   "metadata": {},
   "outputs": [
    {
     "name": "stdout",
     "output_type": "stream",
     "text": [
      "[0, 1, 1, 2, 3, 5, 8, 13]\n"
     ]
    }
   ],
   "source": [
    "fibonacci = [8, 1, 0, 5, 13, 1, 3, 2]\n",
    "\n",
    "# Ordenando listas.\n",
    "\n",
    "fibonacci.sort() \n",
    "\n",
    "print(fibonacci)"
   ]
  },
  {
   "cell_type": "markdown",
   "id": "facial-paper",
   "metadata": {},
   "source": [
    "Ordenar de forma reversa"
   ]
  },
  {
   "cell_type": "code",
   "execution_count": 58,
   "id": "mature-rings",
   "metadata": {},
   "outputs": [
    {
     "name": "stdout",
     "output_type": "stream",
     "text": [
      "[13, 8, 5, 3, 2, 1, 1, 0]\n"
     ]
    }
   ],
   "source": [
    "fibonacci = [8, 1, 0, 5, 13, 1, 3, 2]\n",
    "\n",
    "# Ordenando listas.\n",
    "\n",
    "fibonacci.sort(reverse= True) \n",
    "\n",
    "print(fibonacci)"
   ]
  },
  {
   "cell_type": "code",
   "execution_count": 59,
   "id": "western-department",
   "metadata": {},
   "outputs": [
    {
     "name": "stdout",
     "output_type": "stream",
     "text": [
      "[2, 3, 1, 13, 5, 0, 1, 8]\n"
     ]
    }
   ],
   "source": [
    "# Outra forma de ordernar de forma reversa.\n",
    "\n",
    "fibonacci = [8, 1, 0, 5, 13, 1, 3, 2]\n",
    "\n",
    "fibonacci.reverse() # Escrevendo a lista de forma reversa (de trás para frente); mudando a posição.\n",
    "\n",
    "print(fibonacci)"
   ]
  },
  {
   "cell_type": "markdown",
   "id": "controlling-acrylic",
   "metadata": {},
   "source": [
    "- Buscar elemento"
   ]
  },
  {
   "cell_type": "code",
   "execution_count": 62,
   "id": "utility-reproduction",
   "metadata": {},
   "outputs": [
    {
     "data": {
      "text/plain": [
       "4"
      ]
     },
     "execution_count": 62,
     "metadata": {},
     "output_type": "execute_result"
    }
   ],
   "source": [
    "pi = [3, 1, 4, 1, 5, 9, 2, 6, 5]\n",
    "\n",
    "# A função index captura o índice de um determinado valor dentro da lista.\n",
    "\n",
    "posicao = pi.index(5) \n",
    "\n",
    "# Dá a posição do primeiro valor encontrado\n",
    "\n",
    "posicao"
   ]
  },
  {
   "cell_type": "markdown",
   "id": "architectural-distributor",
   "metadata": {},
   "source": [
    "- Informações sobre a lista"
   ]
  },
  {
   "cell_type": "code",
   "execution_count": 65,
   "id": "shared-kinase",
   "metadata": {},
   "outputs": [
    {
     "name": "stdout",
     "output_type": "stream",
     "text": [
      "9 9 1\n"
     ]
    }
   ],
   "source": [
    "pi = [3, 1, 4, 1, 5, 9, 2, 6, 5]\n",
    "\n",
    "# Para saber o tamanho da lista.\n",
    "\n",
    "tamanho = len(pi)\n",
    "\n",
    "# Determina o maior valor da lista.\n",
    "\n",
    "maior = max(pi) \n",
    "\n",
    "# Determina o menor valor da lista.\n",
    "\n",
    "menor = min(pi) \n",
    "\n",
    "print(tamanho, maior, menor)"
   ]
  },
  {
   "cell_type": "code",
   "execution_count": 69,
   "id": "amazing-wonder",
   "metadata": {},
   "outputs": [
    {
     "name": "stdout",
     "output_type": "stream",
     "text": [
      "['a', 'b', 'c']\n"
     ]
    }
   ],
   "source": [
    "# Criando lista de caracteres.\n",
    "\n",
    "teste = ['a', 'c', 'b']\n",
    "\n",
    "# Ordenando a lista.\n",
    "\n",
    "teste.sort()\n",
    "\n",
    "print(teste)"
   ]
  },
  {
   "cell_type": "code",
   "execution_count": 70,
   "id": "express-stereo",
   "metadata": {},
   "outputs": [
    {
     "data": {
      "text/plain": [
       "'c'"
      ]
     },
     "execution_count": 70,
     "metadata": {},
     "output_type": "execute_result"
    }
   ],
   "source": [
    "# Maior valor da lista de caracteres.\n",
    "\n",
    "max(teste)"
   ]
  },
  {
   "cell_type": "code",
   "execution_count": 71,
   "id": "ordered-reverse",
   "metadata": {},
   "outputs": [
    {
     "data": {
      "text/plain": [
       "'a'"
      ]
     },
     "execution_count": 71,
     "metadata": {},
     "output_type": "execute_result"
    }
   ],
   "source": [
    "# Menor valor da lista de caracteres.\n",
    "\n",
    "min(teste)"
   ]
  },
  {
   "cell_type": "code",
   "execution_count": 74,
   "id": "detected-hydrogen",
   "metadata": {},
   "outputs": [
    {
     "name": "stdout",
     "output_type": "stream",
     "text": [
      "['A', 'a', 'aa', 'ab', 'b', 'c']\n"
     ]
    }
   ],
   "source": [
    "# Criando lista com diferentes tipos de strings.\n",
    "\n",
    "teste = ['aa', 'a', 'c', 'b', 'ab', 'A']\n",
    "\n",
    "teste.sort()\n",
    "\n",
    "print(teste)"
   ]
  }
 ],
 "metadata": {
  "kernelspec": {
   "display_name": "Python 3.8.5 64-bit",
   "language": "python",
   "name": "python3"
  },
  "language_info": {
   "codemirror_mode": {
    "name": "ipython",
    "version": 3
   },
   "file_extension": ".py",
   "mimetype": "text/x-python",
   "name": "python",
   "nbconvert_exporter": "python",
   "pygments_lexer": "ipython3",
   "version": "3.8.5"
  },
  "vscode": {
   "interpreter": {
    "hash": "6a926afa313b26ae1264fdcf81c726a97e69f6ba2ba780f6aa901948710f8d6e"
   }
  }
 },
 "nbformat": 4,
 "nbformat_minor": 5
}
