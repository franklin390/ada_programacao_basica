{
 "cells": [
  {
   "cell_type": "markdown",
   "id": "49b7e916",
   "metadata": {},
   "source": [
    "# **Aula 04 - Strings, dicionários & funções**\n",
    "\n",
    "***18 de novembro de 2022***"
   ]
  },
  {
   "cell_type": "markdown",
   "id": "2204dfce",
   "metadata": {},
   "source": [
    "---\n",
    "\n",
    "<p align=\"center\">\n",
    "  <img \n",
    "    src   = \"https://cdn-icons-png.flaticon.com/512/1006/1006363.png\" \n",
    "    style = \"\n",
    "      border: 0px solid rgba(0, 0, 0, 0.01);\n",
    "      border-radius: 70px; \n",
    "      width: 25%;\n",
    "      height: 25%;\n",
    "    \"\n",
    "  />\n",
    "</p>\n",
    "\n",
    "---"
   ]
  },
  {
   "cell_type": "markdown",
   "metadata": {},
   "source": [
    "## **1. Strings**\n",
    "\n",
    "---"
   ]
  },
  {
   "cell_type": "code",
   "execution_count": 1,
   "metadata": {},
   "outputs": [
    {
     "name": "stdout",
     "output_type": "stream",
     "text": [
      "Code\n"
     ]
    }
   ],
   "source": [
    "# Declarando uma string.\n",
    "\n",
    "minha_string = \"Let's Code\"\n",
    "\n",
    "# Imprimindo parte da string.\n",
    "\n",
    "minha_string[6:10]"
   ]
  },
  {
   "cell_type": "code",
   "execution_count": 28,
   "metadata": {},
   "outputs": [
    {
     "data": {
      "text/plain": [
       "'2022-11-18'"
      ]
     },
     "execution_count": 28,
     "metadata": {},
     "output_type": "execute_result"
    }
   ],
   "source": [
    "data = '18/11/2022'\n",
    "\n",
    "dia, mes, ano = data.split('/')\n",
    "\n",
    "'-'.join([ano, mes, dia])"
   ]
  },
  {
   "cell_type": "code",
   "execution_count": 33,
   "metadata": {},
   "outputs": [
    {
     "data": {
      "text/plain": [
       "'Code'"
      ]
     },
     "execution_count": 33,
     "metadata": {},
     "output_type": "execute_result"
    }
   ],
   "source": [
    "# Declarando string de uma forma diferente.\n",
    "\n",
    "minha_string = 'Let\\'s Code'\n",
    "\n",
    "# Imprimindo parte da string.\n",
    "\n",
    "minha_string[-4:]"
   ]
  },
  {
   "cell_type": "code",
   "execution_count": 3,
   "metadata": {},
   "outputs": [
    {
     "name": "stdout",
     "output_type": "stream",
     "text": [
      "LtsCd\n"
     ]
    }
   ],
   "source": [
    "# Extraindo caracteres, começando do 0 (padrão para \"inicio\"),\n",
    "# indo até o final (padrão para \"fim\"), mas \n",
    "# avançando 2 caracteres cada vez e\n",
    "# retornando: LtsCd\n",
    "\n",
    "minha_string = \"Let's Code\"\n",
    "\n",
    "# Imprimindo parte da string.\n",
    "\n",
    "minha_string[::2]"
   ]
  },
  {
   "cell_type": "code",
   "execution_count": null,
   "metadata": {},
   "outputs": [],
   "source": [
    "# Imprimindo parte da string.\n",
    "\n",
    "minha_string[::2]\n",
    "\n",
    "#------\n",
    "\n",
    "\"Minha string\"\n",
    "\n",
    "\"Mi\" \"nh\" \"a \" \"st\" \"ri\" \"ng\""
   ]
  },
  {
   "cell_type": "code",
   "execution_count": 34,
   "metadata": {},
   "outputs": [
    {
     "name": "stdout",
     "output_type": "stream",
     "text": [
      "M\n",
      "i\n",
      "n\n",
      "h\n",
      "a\n",
      " \n",
      "s\n",
      "t\n",
      "r\n",
      "i\n",
      "n\n",
      "g\n"
     ]
    }
   ],
   "source": [
    "# Imprimindo caractere a caractere da string.\n",
    "\n",
    "minha_string = \"Minha string\"\n",
    "\n",
    "for caractere in minha_string:\n",
    "    print(caractere)"
   ]
  },
  {
   "cell_type": "code",
   "execution_count": 36,
   "metadata": {},
   "outputs": [],
   "source": [
    "minha_string = \"Minha string\""
   ]
  },
  {
   "cell_type": "code",
   "execution_count": 37,
   "metadata": {},
   "outputs": [
    {
     "data": {
      "text/plain": [
       "'minha string'"
      ]
     },
     "execution_count": 37,
     "metadata": {},
     "output_type": "execute_result"
    }
   ],
   "source": [
    "# Transformando todos os caracteres para letras minúsculas.\n",
    "\n",
    "minha_string.lower()"
   ]
  },
  {
   "cell_type": "code",
   "execution_count": 38,
   "metadata": {},
   "outputs": [
    {
     "data": {
      "text/plain": [
       "'MINHA STRING'"
      ]
     },
     "execution_count": 38,
     "metadata": {},
     "output_type": "execute_result"
    }
   ],
   "source": [
    "# Transformando todos os caracteres para letras maiúsculas.\n",
    "\n",
    "minha_string.upper()"
   ]
  },
  {
   "cell_type": "code",
   "execution_count": 39,
   "metadata": {},
   "outputs": [
    {
     "data": {
      "text/plain": [
       "'Minha string'"
      ]
     },
     "execution_count": 39,
     "metadata": {},
     "output_type": "execute_result"
    }
   ],
   "source": [
    "# Transformando a primeira letra em maiúscula.\n",
    "\n",
    "minha_string.capitalize()"
   ]
  },
  {
   "cell_type": "code",
   "execution_count": 7,
   "metadata": {},
   "outputs": [
    {
     "data": {
      "text/plain": [
       "\"Let'S Code\""
      ]
     },
     "execution_count": 7,
     "metadata": {},
     "output_type": "execute_result"
    }
   ],
   "source": [
    "# Transformando letras inicais das palavras para letras maiúsculas.\n",
    "\n",
    "minha_string.title()"
   ]
  },
  {
   "cell_type": "code",
   "execution_count": 40,
   "metadata": {},
   "outputs": [
    {
     "data": {
      "text/plain": [
       "'Minha tentativa'"
      ]
     },
     "execution_count": 40,
     "metadata": {},
     "output_type": "execute_result"
    }
   ],
   "source": [
    "# Substituindo caractere 'a' por 'e'.\n",
    "\n",
    "minha_string.replace(\"string\", \"tentativa\")"
   ]
  },
  {
   "cell_type": "code",
   "execution_count": null,
   "metadata": {},
   "outputs": [],
   "source": [
    "# Quebrando string em substrings sempre que encontrar o caractere ' ' (espaço).\n",
    "# \n",
    "minha_string.split(\" \")"
   ]
  },
  {
   "cell_type": "code",
   "execution_count": 14,
   "metadata": {},
   "outputs": [
    {
     "data": {
      "text/plain": [
       "'Essa é a minha string'"
      ]
     },
     "execution_count": 14,
     "metadata": {},
     "output_type": "execute_result"
    }
   ],
   "source": [
    "# Unindo strings em um string única utilizando o caractere ' ' (espaço).\n",
    "\n",
    "' '.join(['Essa', 'é', 'a', 'minha', 'string'])"
   ]
  },
  {
   "cell_type": "markdown",
   "metadata": {},
   "source": [
    "---\n",
    "\n",
    "## **2. Dicionários**\n",
    "\n",
    "---"
   ]
  },
  {
   "cell_type": "markdown",
   "metadata": {},
   "source": [
    "### **Criando dicionários**\n"
   ]
  },
  {
   "cell_type": "code",
   "execution_count": 41,
   "metadata": {},
   "outputs": [],
   "source": [
    "# Declarando um dicionário.\n",
    "\n",
    "aluno = {'nome':'Mario', 'notas':[7, 9, 5, 6], 'presencas':0.8}"
   ]
  },
  {
   "cell_type": "code",
   "execution_count": 51,
   "metadata": {},
   "outputs": [
    {
     "data": {
      "text/plain": [
       "{'nome': 'Mario', 'notas': [7, 9, 5, 6], 'presencas': 0.8}"
      ]
     },
     "execution_count": 51,
     "metadata": {},
     "output_type": "execute_result"
    }
   ],
   "source": [
    "{\n",
    "    'nome':'Mario', \n",
    "    'notas':[7, 9, 5, 6], \n",
    "    'presencas':0.8\n",
    "}"
   ]
  },
  {
   "cell_type": "code",
   "execution_count": 63,
   "metadata": {},
   "outputs": [
    {
     "name": "stdout",
     "output_type": "stream",
     "text": [
      "\n",
      "Está é \n",
      "a minha frase\n",
      "\n"
     ]
    }
   ],
   "source": [
    "print('''\n",
    "SELECT * FROM TABLE;\n",
    "''')"
   ]
  },
  {
   "cell_type": "code",
   "execution_count": 61,
   "metadata": {},
   "outputs": [],
   "source": [
    "x = 'Esta é' \\\n",
    "    ' a minha frase'"
   ]
  },
  {
   "cell_type": "code",
   "execution_count": 62,
   "metadata": {},
   "outputs": [
    {
     "data": {
      "text/plain": [
       "'Esta é a minha frase'"
      ]
     },
     "execution_count": 62,
     "metadata": {},
     "output_type": "execute_result"
    }
   ],
   "source": [
    "x"
   ]
  },
  {
   "cell_type": "code",
   "execution_count": 75,
   "metadata": {},
   "outputs": [
    {
     "data": {
      "text/plain": [
       "{'Ana': 7, 'Brenda': 10, 'Carlos': 8}"
      ]
     },
     "execution_count": 75,
     "metadata": {},
     "output_type": "execute_result"
    }
   ],
   "source": [
    "# Transformando lista de listas em dicionário.\n",
    "\n",
    "lista = [['Ana', 7], ['Brenda', 10], ['Carlos', 8]]\n",
    "\n",
    "dicionario = dict(lista)\n",
    "\n",
    "dicionario"
   ]
  },
  {
   "cell_type": "code",
   "execution_count": 77,
   "metadata": {},
   "outputs": [
    {
     "name": "stdout",
     "output_type": "stream",
     "text": [
      "Ana ---> 7\n",
      "Brenda ---> 10\n",
      "Carlos ---> 8\n"
     ]
    }
   ],
   "source": [
    "# Percorrendo um dicionário.\n",
    "\n",
    "for k in dicionario:\n",
    "    print(k, '--->', dicionario[k])"
   ]
  },
  {
   "cell_type": "code",
   "execution_count": 78,
   "metadata": {},
   "outputs": [
    {
     "data": {
      "text/plain": [
       "dict_items([('Ana', 7), ('Brenda', 10), ('Carlos', 8)])"
      ]
     },
     "execution_count": 78,
     "metadata": {},
     "output_type": "execute_result"
    }
   ],
   "source": [
    "dicionario.items()"
   ]
  },
  {
   "cell_type": "code",
   "execution_count": 79,
   "metadata": {},
   "outputs": [
    {
     "name": "stdout",
     "output_type": "stream",
     "text": [
      "Ana ---> 7\n",
      "Brenda ---> 10\n",
      "Carlos ---> 8\n"
     ]
    }
   ],
   "source": [
    "for k,v in dicionario.items():\n",
    "    print(k, '--->', v)"
   ]
  },
  {
   "cell_type": "code",
   "execution_count": 72,
   "metadata": {},
   "outputs": [
    {
     "data": {
      "text/plain": [
       "1231232323"
      ]
     },
     "execution_count": 72,
     "metadata": {},
     "output_type": "execute_result"
    }
   ],
   "source": [
    "dicionario.get('Eduardo', 1231232323)"
   ]
  },
  {
   "cell_type": "code",
   "execution_count": 82,
   "metadata": {},
   "outputs": [
    {
     "data": {
      "text/plain": [
       "True"
      ]
     },
     "execution_count": 82,
     "metadata": {},
     "output_type": "execute_result"
    }
   ],
   "source": [
    "'Ana' in dicionario"
   ]
  },
  {
   "cell_type": "code",
   "execution_count": 84,
   "metadata": {},
   "outputs": [
    {
     "data": {
      "text/plain": [
       "dict_values([7, 10, 8])"
      ]
     },
     "execution_count": 84,
     "metadata": {},
     "output_type": "execute_result"
    }
   ],
   "source": [
    "dicionario.values()"
   ]
  },
  {
   "cell_type": "code",
   "execution_count": 86,
   "metadata": {},
   "outputs": [
    {
     "data": {
      "text/plain": [
       "False"
      ]
     },
     "execution_count": 86,
     "metadata": {},
     "output_type": "execute_result"
    }
   ],
   "source": [
    "0 in dicionario.values()"
   ]
  },
  {
   "cell_type": "code",
   "execution_count": null,
   "metadata": {},
   "outputs": [
    {
     "name": "stdout",
     "output_type": "stream",
     "text": [
      "{'escola': \"Let's Code\", 'unidade': 'Faria Lima', 'cursos': ['Python', 'Data Science']}\n"
     ]
    }
   ],
   "source": [
    "dicionario = {'escola':\"Let's Code\", 'unidade':'Faria Lima'}\n",
    "\n",
    "# Neste caso, 'cursos' ainda não existe.\n",
    "# Cairemos no else e será criada uma lista com a string 'Python'.\n",
    "\n",
    "if 'cursos' in dicionario:\n",
    "    dicionario['cursos'].append('Python')\n",
    "else:\n",
    "    dicionario['cursos'] = ['Python']\n",
    "\n",
    "# Agora a chave já existe. \n",
    "# Portanto, será adicionado 'Data Science' à lista. \n",
    "\n",
    "if 'cursos' in dicionario:\n",
    "    dicionario['cursos'].append('Data Science')\n",
    "else:\n",
    "    dicionario['cursos'] = ['Data Science']\n",
    "\n",
    "dicionario"
   ]
  },
  {
   "cell_type": "markdown",
   "metadata": {},
   "source": [
    "### **Métodos dos dicionários**\n"
   ]
  },
  {
   "cell_type": "code",
   "execution_count": 89,
   "metadata": {},
   "outputs": [
    {
     "data": {
      "text/plain": [
       "[('Ana', 7), ('Brenda', 10), ('Carlos', 8)]"
      ]
     },
     "execution_count": 89,
     "metadata": {},
     "output_type": "execute_result"
    }
   ],
   "source": [
    "\n",
    "nomes = ['Ana', 'Brenda', 'Carlos', 'Wagner']\n",
    "notas = [7, 10, 8]\n",
    "\n",
    "list(zip(nomes, notas))"
   ]
  },
  {
   "cell_type": "code",
   "execution_count": 90,
   "metadata": {},
   "outputs": [],
   "source": [
    "# Criando listas. \n",
    "\n",
    "nomes = ['Ana', 'Brenda', 'Carlos']\n",
    "notas = [7, 10, 8]\n",
    "\n",
    "# Transformando listas em um dicionário.\n",
    "\n",
    "dicionario_notas = dict(zip(nomes, notas))\n",
    "\n",
    "# Utilizando a função get para extrair alguma info do dicionário.\n",
    "\n",
    "nota_daniel = dicionario_notas.get('Daniel') "
   ]
  },
  {
   "cell_type": "code",
   "execution_count": 92,
   "metadata": {},
   "outputs": [
    {
     "data": {
      "text/plain": [
       "{'Ana': 7, 'Brenda': 10, 'Carlos': 8}"
      ]
     },
     "execution_count": 92,
     "metadata": {},
     "output_type": "execute_result"
    }
   ],
   "source": [
    "dicionario_notas \n"
   ]
  },
  {
   "cell_type": "code",
   "execution_count": 17,
   "metadata": {},
   "outputs": [
    {
     "ename": "KeyError",
     "evalue": "'Eliza'",
     "output_type": "error",
     "traceback": [
      "\u001b[1;31m---------------------------------------------------------------------------\u001b[0m",
      "\u001b[1;31mKeyError\u001b[0m                                  Traceback (most recent call last)",
      "\u001b[1;32m<ipython-input-17-9775e2851578>\u001b[0m in \u001b[0;36m<module>\u001b[1;34m\u001b[0m\n\u001b[0;32m      1\u001b[0m \u001b[1;31m# Utilizando a função get para extrair alguma info do dicionário.\u001b[0m\u001b[1;33m\u001b[0m\u001b[1;33m\u001b[0m\u001b[1;33m\u001b[0m\u001b[0m\n\u001b[0;32m      2\u001b[0m \u001b[1;33m\u001b[0m\u001b[0m\n\u001b[1;32m----> 3\u001b[1;33m \u001b[0mnota_eliza\u001b[0m \u001b[1;33m=\u001b[0m \u001b[0mdicionario_notas\u001b[0m\u001b[1;33m[\u001b[0m\u001b[1;34m'Eliza'\u001b[0m\u001b[1;33m]\u001b[0m\u001b[1;33m\u001b[0m\u001b[1;33m\u001b[0m\u001b[0m\n\u001b[0m",
      "\u001b[1;31mKeyError\u001b[0m: 'Eliza'"
     ]
    }
   ],
   "source": [
    "# Utilizando a função get para extrair alguma info do dicionário.\n",
    "\n",
    "nota_eliza = dicionario_notas['Eliza'] "
   ]
  },
  {
   "cell_type": "code",
   "execution_count": null,
   "metadata": {},
   "outputs": [],
   "source": [
    "# Definindo valores padrão utilizando a função get.\n",
    "\n",
    "nota_brenda = dicionario_notas.get('Brenda', 0) # valor de nota_brenda: 10\n",
    "nota_daniel = dicionario_notas.get('Daniel', 0) # valor de nota_daniel: None"
   ]
  },
  {
   "cell_type": "code",
   "execution_count": 94,
   "metadata": {},
   "outputs": [
    {
     "name": "stdout",
     "output_type": "stream",
     "text": [
      "Ana 7\n",
      "Brenda 10\n",
      "Carlos 8\n"
     ]
    }
   ],
   "source": [
    "nomes = ['Ana', 'Brenda', 'Carlos']\n",
    "notas = [7, 10, 8]\n",
    "\n",
    "for nome, nota in zip(nomes, notas):\n",
    "    print(nome, nota)"
   ]
  },
  {
   "cell_type": "code",
   "execution_count": 96,
   "metadata": {},
   "outputs": [
    {
     "data": {
      "text/plain": [
       "{'Ana': 7, 'Brenda': 10, 'Carlos': 8}"
      ]
     },
     "execution_count": 96,
     "metadata": {},
     "output_type": "execute_result"
    }
   ],
   "source": [
    "novo_dict = {}\n",
    "\n",
    "for i in range(len(nomes)):\n",
    "    novo_dict[nomes[i]] = notas[i]\n",
    "\n",
    "novo_dict"
   ]
  },
  {
   "cell_type": "code",
   "execution_count": 97,
   "metadata": {},
   "outputs": [
    {
     "data": {
      "text/plain": [
       "{'Ana': 10, 'Brenda': 10, 'Carlos': 8}"
      ]
     },
     "execution_count": 97,
     "metadata": {},
     "output_type": "execute_result"
    }
   ],
   "source": [
    "novo_dict['Ana'] = 10\n",
    "\n",
    "novo_dict"
   ]
  },
  {
   "cell_type": "code",
   "execution_count": 99,
   "metadata": {},
   "outputs": [
    {
     "data": {
      "text/plain": [
       "0"
      ]
     },
     "execution_count": 99,
     "metadata": {},
     "output_type": "execute_result"
    }
   ],
   "source": [
    "# Criando listas. \n",
    "\n",
    "nomes = ['Ana', 'Brenda', 'Carlos']\n",
    "notas = [7, 10, 8]\n",
    "\n",
    "# Transformando listas em um dicionário.\n",
    "\n",
    "dicionario_notas = dict(zip(nomes, notas))\n",
    "\n",
    "\n",
    "# Criando referência ao dicionário.\n",
    "\n",
    "dicionario_notas_copia = dicionario_notas\n",
    "\n",
    "# Alterando dado dentro do dicionário.\n",
    "\n",
    "dicionario_notas_copia['Ana'] = 0\n",
    "\n",
    "dicionario_notas['Ana'] # resultado: 0"
   ]
  },
  {
   "cell_type": "code",
   "execution_count": null,
   "metadata": {},
   "outputs": [],
   "source": []
  },
  {
   "cell_type": "code",
   "execution_count": 100,
   "metadata": {},
   "outputs": [
    {
     "data": {
      "text/plain": [
       "7"
      ]
     },
     "execution_count": 100,
     "metadata": {},
     "output_type": "execute_result"
    }
   ],
   "source": [
    "# Criando listas. \n",
    "\n",
    "nomes = ['Ana', 'Brenda', 'Carlos']\n",
    "notas = [7, 10, 8]\n",
    "\n",
    "# Transformando listas em um dicionário.\n",
    "\n",
    "dicionario_notas = dict(zip(nomes, notas))\n",
    "\n",
    "# Criando cópia do dicionário.\n",
    "\n",
    "dicionario_notas_copia = dicionario_notas\n",
    "\n",
    "# Fazendo cópia do dicionário.\n",
    "\n",
    "dicionario_notas_copia = dicionario_notas.copy()\n",
    "\n",
    "dicionario_notas_copia['Ana'] = 0\n",
    "\n",
    "dicionario_notas['Ana'] "
   ]
  },
  {
   "cell_type": "code",
   "execution_count": 102,
   "metadata": {},
   "outputs": [
    {
     "data": {
      "text/plain": [
       "{'escola': \"Let's Code\",\n",
       " 'unidade': 'Faria Lima',\n",
       " 'trilhas': ['Data Science', 'Web Full Stack'],\n",
       " 'formato': 'online'}"
      ]
     },
     "execution_count": 102,
     "metadata": {},
     "output_type": "execute_result"
    }
   ],
   "source": [
    "# Criando dicionários.\n",
    "\n",
    "escola = {'escola':\"Let's Code\", 'unidade':'Faria Lima'}\n",
    "mais_escola = {'trilhas':['Data Science', 'Web Full Stack'], 'formato':'online'}\n",
    "\n",
    "# Unindo dicionários.\n",
    "\n",
    "escola.update(mais_escola)\n",
    "\n",
    "escola"
   ]
  },
  {
   "cell_type": "code",
   "execution_count": 103,
   "metadata": {},
   "outputs": [
    {
     "data": {
      "text/plain": [
       "{'nome': 'Mario', 'notas': [7, 9, 5, 6]}"
      ]
     },
     "execution_count": 103,
     "metadata": {},
     "output_type": "execute_result"
    }
   ],
   "source": [
    "# Criando dicionário.\n",
    "\n",
    "aluno = {'nome':'Mario', 'notas':[7, 9, 5, 6], 'presencas':0.8}\n",
    "\n",
    "# Extraindo dado do dicionário.\n",
    "\n",
    "presencas = aluno.pop('presencas')\n",
    "\n",
    "aluno "
   ]
  },
  {
   "cell_type": "code",
   "execution_count": 104,
   "metadata": {},
   "outputs": [
    {
     "data": {
      "text/plain": [
       "0.8"
      ]
     },
     "execution_count": 104,
     "metadata": {},
     "output_type": "execute_result"
    }
   ],
   "source": [
    "# Verificando os dados extraídos.\n",
    "\n",
    "presencas"
   ]
  },
  {
   "cell_type": "code",
   "execution_count": 105,
   "metadata": {},
   "outputs": [
    {
     "name": "stdout",
     "output_type": "stream",
     "text": [
      "Mi\n",
      "nh\n",
      "a \n",
      "St\n",
      "ri\n",
      "ng\n"
     ]
    }
   ],
   "source": [
    "#Impressão de 2 em 2 caracteres da string:\n",
    "minha_string = 'Minha String'\n",
    "i = 0\n",
    "while i < len(minha_string):\n",
    "  print(minha_string[i:i+2])\n",
    "  i += 2"
   ]
  },
  {
   "cell_type": "code",
   "execution_count": null,
   "metadata": {},
   "outputs": [
    {
     "name": "stdout",
     "output_type": "stream",
     "text": [
      "Chaves:  ['nome', 'notas', 'presencas']\n",
      "Valores: ['Mario', [7, 9, 5, 6], 0.8]\n"
     ]
    }
   ],
   "source": [
    "# Criando dicionários.\n",
    "\n",
    "aluno = {'nome':'Mario', 'notas':[7, 9, 5, 6], 'presencas':0.8}\n",
    "\n",
    "# Verificando as listas de chaves e valores dos dicionários.\n",
    "\n",
    "chaves = list(aluno.keys())\n",
    "valores = list(aluno.values())\n",
    "\n",
    "print('Chaves: ', chaves)\n",
    "print('Valores:', valores)"
   ]
  },
  {
   "cell_type": "markdown",
   "metadata": {},
   "source": [
    "---\n",
    "\n",
    "## **3. Compressão de listas e expressões geradoras**\n",
    "\n",
    "---"
   ]
  },
  {
   "cell_type": "code",
   "execution_count": 24,
   "metadata": {},
   "outputs": [
    {
     "data": {
      "text/plain": [
       "[2.0, 3.0, 1.0]"
      ]
     },
     "execution_count": 24,
     "metadata": {},
     "output_type": "execute_result"
    }
   ],
   "source": [
    "# Criando lista.\n",
    "\n",
    "numeros = [1, 9, 4, 7, 6, 2]\n",
    "\n",
    "# Utilizando expressões geradoras (list comprehension) para dividir cada um dos números pares da lista por 2.\n",
    "\n",
    "metades_pares = [n/2 for n in numeros if n % 2 == 0]\n",
    "\n",
    "metades_pares"
   ]
  },
  {
   "cell_type": "code",
   "execution_count": 123,
   "metadata": {},
   "outputs": [],
   "source": [
    "lista = []\n",
    "\n",
    "for i in range(100):\n",
    "\n",
    "    if i % 2 == 0:\n",
    "        lista += [i]\n",
    "    else:\n",
    "        lista += ['Ímpar']"
   ]
  },
  {
   "cell_type": "code",
   "execution_count": 124,
   "metadata": {},
   "outputs": [
    {
     "data": {
      "text/plain": [
       "[0,\n",
       " 'Ímpar',\n",
       " 2,\n",
       " 'Ímpar',\n",
       " 4,\n",
       " 'Ímpar',\n",
       " 6,\n",
       " 'Ímpar',\n",
       " 8,\n",
       " 'Ímpar',\n",
       " 10,\n",
       " 'Ímpar',\n",
       " 12,\n",
       " 'Ímpar',\n",
       " 14,\n",
       " 'Ímpar',\n",
       " 16,\n",
       " 'Ímpar',\n",
       " 18,\n",
       " 'Ímpar',\n",
       " 20,\n",
       " 'Ímpar',\n",
       " 22,\n",
       " 'Ímpar',\n",
       " 24,\n",
       " 'Ímpar',\n",
       " 26,\n",
       " 'Ímpar',\n",
       " 28,\n",
       " 'Ímpar',\n",
       " 30,\n",
       " 'Ímpar',\n",
       " 32,\n",
       " 'Ímpar',\n",
       " 34,\n",
       " 'Ímpar',\n",
       " 36,\n",
       " 'Ímpar',\n",
       " 38,\n",
       " 'Ímpar',\n",
       " 40,\n",
       " 'Ímpar',\n",
       " 42,\n",
       " 'Ímpar',\n",
       " 44,\n",
       " 'Ímpar',\n",
       " 46,\n",
       " 'Ímpar',\n",
       " 48,\n",
       " 'Ímpar',\n",
       " 50,\n",
       " 'Ímpar',\n",
       " 52,\n",
       " 'Ímpar',\n",
       " 54,\n",
       " 'Ímpar',\n",
       " 56,\n",
       " 'Ímpar',\n",
       " 58,\n",
       " 'Ímpar',\n",
       " 60,\n",
       " 'Ímpar',\n",
       " 62,\n",
       " 'Ímpar',\n",
       " 64,\n",
       " 'Ímpar',\n",
       " 66,\n",
       " 'Ímpar',\n",
       " 68,\n",
       " 'Ímpar',\n",
       " 70,\n",
       " 'Ímpar',\n",
       " 72,\n",
       " 'Ímpar',\n",
       " 74,\n",
       " 'Ímpar',\n",
       " 76,\n",
       " 'Ímpar',\n",
       " 78,\n",
       " 'Ímpar',\n",
       " 80,\n",
       " 'Ímpar',\n",
       " 82,\n",
       " 'Ímpar',\n",
       " 84,\n",
       " 'Ímpar',\n",
       " 86,\n",
       " 'Ímpar',\n",
       " 88,\n",
       " 'Ímpar',\n",
       " 90,\n",
       " 'Ímpar',\n",
       " 92,\n",
       " 'Ímpar',\n",
       " 94,\n",
       " 'Ímpar',\n",
       " 96,\n",
       " 'Ímpar',\n",
       " 98,\n",
       " 'Ímpar']"
      ]
     },
     "execution_count": 124,
     "metadata": {},
     "output_type": "execute_result"
    }
   ],
   "source": [
    "lista"
   ]
  },
  {
   "cell_type": "code",
   "execution_count": 134,
   "metadata": {},
   "outputs": [],
   "source": [
    "tupla = (i if i % 2 == 0 else 'Ímpar' for i in range(100) if i != 0)"
   ]
  },
  {
   "cell_type": "code",
   "execution_count": 140,
   "metadata": {},
   "outputs": [],
   "source": [
    "dicionario = {}\n",
    "\n",
    "dados = [('chave1', 1), ('chave2', 2), ('chave3', 3)]\n",
    "\n",
    "for k, v in dados:\n",
    "    dicionario[k] = v"
   ]
  },
  {
   "cell_type": "code",
   "execution_count": 141,
   "metadata": {},
   "outputs": [
    {
     "data": {
      "text/plain": [
       "{'chave1': 1, 'chave2': 2, 'chave3': 3}"
      ]
     },
     "execution_count": 141,
     "metadata": {},
     "output_type": "execute_result"
    }
   ],
   "source": [
    "dicionario"
   ]
  },
  {
   "cell_type": "code",
   "execution_count": 147,
   "metadata": {},
   "outputs": [
    {
     "data": {
      "text/plain": [
       "dict"
      ]
     },
     "execution_count": 147,
     "metadata": {},
     "output_type": "execute_result"
    }
   ],
   "source": [
    "type({k:v for k, v in dados})"
   ]
  },
  {
   "cell_type": "code",
   "execution_count": null,
   "metadata": {},
   "outputs": [],
   "source": [
    "NaT\n",
    "NaN\n",
    "None\n",
    "Null"
   ]
  },
  {
   "cell_type": "code",
   "execution_count": 143,
   "metadata": {},
   "outputs": [
    {
     "data": {
      "text/plain": [
       "{'Nome': None, 'Matricula': None, 'Idade': None}"
      ]
     },
     "execution_count": 143,
     "metadata": {},
     "output_type": "execute_result"
    }
   ],
   "source": [
    "{k:None for k in ['Nome', 'Matricula', 'Idade']}"
   ]
  },
  {
   "cell_type": "markdown",
   "metadata": {},
   "source": [
    "### **Compressão de dicionários**\n"
   ]
  },
  {
   "cell_type": "code",
   "execution_count": null,
   "metadata": {},
   "outputs": [
    {
     "name": "stdout",
     "output_type": "stream",
     "text": [
      "{'Ana': 9.0, 'Bruno': 8.0, 'Carla': 8.0, 'Daniel': 6.5, 'Emília': 7.0}\n"
     ]
    }
   ],
   "source": [
    "# Criando listas.\n",
    "\n",
    "alunos = ['Ana', 'Bruno', 'Carla', 'Daniel', 'Emília']\n",
    "medias = [9.0, 8.0, 8.0, 6.5, 7.0]\n",
    "\n",
    "# Criando dicionários a partir de listas.\n",
    "\n",
    "cadastro = {alunos[i]:medias[i] for i in range(len(alunos))}\n",
    "\n",
    "cadastro"
   ]
  },
  {
   "cell_type": "markdown",
   "metadata": {},
   "source": [
    "---\n",
    "\n",
    "## **4. Parâmetros e retorno de funções**\n",
    "\n",
    "---"
   ]
  },
  {
   "cell_type": "markdown",
   "metadata": {},
   "source": [
    "### **Parâmetros e retorno de funções**\n"
   ]
  },
  {
   "cell_type": "markdown",
   "metadata": {},
   "source": [
    "##### **Dica**\n",
    "\n",
    "> **Função**: corresponde a uma **associação** dos elementos de dois conjuntos, ou seja, a função indica como os elementos estão relacionados."
   ]
  },
  {
   "cell_type": "markdown",
   "metadata": {},
   "source": [
    "<p align=\"center\">\n",
    "  <img \n",
    "    src   = \"https://i.imgur.com/f8fQ8fz.png\" \n",
    "    style = \"\n",
    "      border: 0px solid rgba(0, 0, 0, 0.01);\n",
    "      border-radius: 30px; \n",
    "      width: 60%;\n",
    "      height: 60%;\n",
    "    \"\n",
    "  />\n",
    "</p>"
   ]
  },
  {
   "cell_type": "code",
   "execution_count": 148,
   "metadata": {},
   "outputs": [
    {
     "name": "stdout",
     "output_type": "stream",
     "text": [
      "(9, 1)\n",
      "<class 'tuple'>\n"
     ]
    }
   ],
   "source": [
    "# Declarando função.\n",
    "\n",
    "def max_min(colecao):\n",
    "    \n",
    "    maior = max(colecao)\n",
    "    menor = min(colecao)\n",
    "    \n",
    "    return maior, menor\n",
    "\n",
    "# Criando lista.\n",
    "\n",
    "numeros = [3, 1, 4, 1, 5, 9, 2]\n",
    "\n",
    "resposta = max_min(numeros)\n",
    "\n",
    "maior_num = resposta[0]\n",
    "menor_num = resposta[1]\n",
    "\n",
    "# Exibindo resultado e o tipo de dado do resultado.\n",
    "\n",
    "print(resposta)\n",
    "\n",
    "print(type(resposta)) # mostra o tipo da variável resposta"
   ]
  },
  {
   "cell_type": "code",
   "execution_count": 149,
   "metadata": {},
   "outputs": [
    {
     "name": "stdout",
     "output_type": "stream",
     "text": [
      "9\n",
      "1\n"
     ]
    }
   ],
   "source": [
    "# Declarando função.\n",
    "\n",
    "def max_min(colecao):\n",
    "    \n",
    "    maior = max(colecao)\n",
    "    menor = min(colecao)\n",
    "    \n",
    "    return maior, menor\n",
    "\n",
    "# Criando lista.\n",
    "\n",
    "numeros = [3, 1, 4, 1, 5, 9, 2]\n",
    "\n",
    "# Capturando o maior e o menor número resultantes.\n",
    "\n",
    "maior_num, menor_num = max_min(numeros)\n",
    "\n",
    "# Exbindo os resultados.\n",
    "\n",
    "print(maior_num)\n",
    "print(menor_num)"
   ]
  },
  {
   "cell_type": "code",
   "execution_count": 150,
   "metadata": {},
   "outputs": [
    {
     "name": "stdout",
     "output_type": "stream",
     "text": [
      "sem passar o segundo argumento\n",
      "passando segundo argumento true\n",
      "PASSANDO SEGUNDO ARGUMENTO FALSE\n"
     ]
    }
   ],
   "source": [
    "# Declarando função.\n",
    "\n",
    "def padroniza_string(texto: str, lower: bool = True) -> str:\n",
    "    if lower:\n",
    "        return texto.lower()\n",
    "    else:\n",
    "        return texto.upper()\n",
    "\n",
    "# Imprimindo resultados.\n",
    "\n",
    "print(padroniza_string('Sem passar o SEGUNDO argumento'))\n",
    "print(padroniza_string('Passando SEGUNDO argumento True', lower = True))\n",
    "print(padroniza_string('Passando SEGUNDO argumento False', lower = False))"
   ]
  },
  {
   "cell_type": "markdown",
   "metadata": {},
   "source": [
    "### **Funções com quantidade variável de parâmetros**\n"
   ]
  },
  {
   "cell_type": "code",
   "execution_count": 151,
   "metadata": {},
   "outputs": [
    {
     "name": "stdout",
     "output_type": "stream",
     "text": [
      "1\n",
      "2\n"
     ]
    }
   ],
   "source": [
    "n1, n2 = (1, 2)\n",
    "\n",
    "print(n1)\n",
    "print(n2)"
   ]
  },
  {
   "cell_type": "code",
   "execution_count": null,
   "metadata": {},
   "outputs": [],
   "source": [
    "[1, 2, 3, 4,5]"
   ]
  },
  {
   "cell_type": "code",
   "execution_count": null,
   "metadata": {},
   "outputs": [],
   "source": [
    "def somatorio(*numeros):\n",
    "    pass"
   ]
  },
  {
   "cell_type": "code",
   "execution_count": 153,
   "metadata": {},
   "outputs": [
    {
     "name": "stdout",
     "output_type": "stream",
     "text": [
      "(5, 3, 1)\n",
      "<class 'tuple'>\n",
      "(2, 4, 6, 8, 10)\n",
      "<class 'tuple'>\n",
      "(1, 2, 3, 4, 5, 6, 7, 8, 9, 10)\n",
      "<class 'tuple'>\n",
      "9 30 55\n"
     ]
    }
   ],
   "source": [
    "# Declarando função com quantidade de argumentos variáveis.\n",
    "\n",
    "def somatorio(*numeros):\n",
    "    print (numeros)\n",
    "    print(type(numeros))\n",
    "\n",
    "    soma = 0\n",
    "\n",
    "    for n in numeros:\n",
    "        soma = soma + n\n",
    "    return soma\n",
    "\n",
    "# Passando quantidades de argumentos variáveis.\n",
    "\n",
    "s1 = somatorio(idade = 5, escolaridade = 3, 1)\n",
    "s2 = somatorio(2, 4, 6, 8, 10)\n",
    "s3 = somatorio(1, 2, 3, 4, 5, 6, 7, 8, 9, 10)\n",
    "\n",
    "print(s1, s2, s3)"
   ]
  },
  {
   "cell_type": "code",
   "execution_count": null,
   "metadata": {},
   "outputs": [],
   "source": [
    "# Passando uma lista para a função.\n",
    "\n",
    "lista = [1, 2, 3, 4, 5]\n",
    "\n",
    "s = somatorio(lista)\n",
    "\n",
    "print(s)"
   ]
  },
  {
   "cell_type": "markdown",
   "metadata": {},
   "source": [
    "### **Parâmetros opcionais**\n"
   ]
  },
  {
   "cell_type": "code",
   "execution_count": null,
   "metadata": {},
   "outputs": [],
   "source": [
    "kwargs"
   ]
  },
  {
   "cell_type": "code",
   "execution_count": 158,
   "metadata": {},
   "outputs": [
    {
     "name": "stdout",
     "output_type": "stream",
     "text": [
      "('João', 123456789)\n",
      "<class 'tuple'>\n"
     ]
    },
    {
     "data": {
      "text/plain": [
       "('João', 123456789)"
      ]
     },
     "execution_count": 158,
     "metadata": {},
     "output_type": "execute_result"
    }
   ],
   "source": [
    "# Declarando uma função com quantidade de parâmetros variáveis.\n",
    "\n",
    "def cadastro(**usuario) -> dict:\n",
    "\n",
    "    print (usuario)\n",
    "    print(type(usuario))\n",
    "\n",
    "    return usuario\n",
    "\n",
    "cadastro(nome = 'João', cpf = 123456789) # Tem ambos"
   ]
  },
  {
   "cell_type": "code",
   "execution_count": null,
   "metadata": {},
   "outputs": [],
   "source": [
    "# Passando um dicionário para a função.\n",
    "\n",
    "maria = {'nome':'Maria', 'cpf':2468135790}\n",
    "\n",
    "cadastro(**maria)"
   ]
  },
  {
   "cell_type": "markdown",
   "metadata": {},
   "source": [
    "### **Ordem dos parâmetros**\n",
    "\n",
    "Caso sua função vá combinar múltiplos tipos de parâmetro, sempre siga a seguinte ordem: argumentos posicionais (os comuns), argumentos com asterisco (tupla), argumentos com valor padrão e argumentos com dois asteriscos (dicionário). Por exemplo, na função abaixo:\n",
    "\n",
    "> def funcao(a, b, *c, d=0, e=1, **f)\n",
    "\n",
    "Quando ela for chamada, o Python fará o seguinte:\n",
    "\n",
    "* os primeiros 2 valores serão atribuídos, respectivamente, para a e b.\n",
    "* os próximos valores, independentes de quantos sejam, serão incluídos na tupla c.\n",
    "* se os valores d e/ou e forem passados explicitamente pelo nome, os valores passados serão adotados, senão, serão adotados os valores padrão.\n",
    "* quaisquer outros valores passados por nome serão incluídos no dicionário f."
   ]
  },
  {
   "cell_type": "markdown",
   "metadata": {},
   "source": [
    "#### **Funções anônimas**\n"
   ]
  },
  {
   "cell_type": "code",
   "execution_count": null,
   "metadata": {},
   "outputs": [],
   "source": [
    "def sum(lista: list) -> int:\n",
    "    return sum(lista)"
   ]
  },
  {
   "cell_type": "code",
   "execution_count": 159,
   "metadata": {},
   "outputs": [
    {
     "data": {
      "text/plain": [
       "[3, 1, 4, 1, 5, 9, 2]"
      ]
     },
     "execution_count": 159,
     "metadata": {},
     "output_type": "execute_result"
    }
   ],
   "source": [
    "# Criando lista.\n",
    "\n",
    "numeros = [3, 1, 4, 1, 5, 9, 2]\n",
    "\n",
    "# Criando função lambda.\n",
    "\n",
    "sum_op = lambda lista: sum(lista)\n",
    "\n",
    "# Imprimindo resultado.\n",
    "\n",
    "numeros"
   ]
  },
  {
   "cell_type": "code",
   "execution_count": 161,
   "metadata": {},
   "outputs": [
    {
     "data": {
      "text/plain": [
       "25"
      ]
     },
     "execution_count": 161,
     "metadata": {},
     "output_type": "execute_result"
    }
   ],
   "source": [
    "sum_op(lista = numeros)"
   ]
  },
  {
   "cell_type": "markdown",
   "metadata": {},
   "source": [
    "#### **Funções recursivas**\n"
   ]
  },
  {
   "cell_type": "code",
   "execution_count": 162,
   "metadata": {},
   "outputs": [
    {
     "name": "stdout",
     "output_type": "stream",
     "text": [
      "Número verificado: 4\n",
      "Número verificado: 3\n",
      "Número verificado: 2\n",
      "Número verificado: 1\n"
     ]
    },
    {
     "data": {
      "text/plain": [
       "10"
      ]
     },
     "execution_count": 162,
     "metadata": {},
     "output_type": "execute_result"
    }
   ],
   "source": [
    "# Criando lista.\n",
    "\n",
    "numeros = [1, 2, 3, 4, 5, 6, 7, 8, 9, 10]\n",
    "\n",
    "# Declarando função para executar a soma de N números enquanto o somatório for menor do que o valor máximo.\n",
    "\n",
    "def soma(numeros: list, acumulador: int = 0, valor_maximo: int = 10) -> int:\n",
    "\n",
    "    # Valida se o acumulador é menor que o valor máximo.\n",
    "\n",
    "    if acumulador < valor_maximo:\n",
    "\n",
    "        # Adicionar o número avaliado ao acumulador.\n",
    "\n",
    "        acumulador += numeros[0]\n",
    "        \n",
    "        # Enviando a lista sem o número adicionado ao acumulador outra vez para a função de soma.\n",
    "\n",
    "        acumulador = soma(numeros=numeros[1:], acumulador= acumulador)\n",
    "\n",
    "        # Imprimindo o número somado.\n",
    "        print(f'Número verificado: {numeros[0]}')\n",
    "    \n",
    "    # Retornando o valor do acumulador.\n",
    "\n",
    "    return acumulador\n",
    "\n",
    "# Passando a lista de números para a função de soma.\n",
    "\n",
    "soma(numeros = numeros)"
   ]
  },
  {
   "cell_type": "markdown",
   "metadata": {},
   "source": [
    "---\n",
    "\n",
    "## **5. Exercícios**\n",
    "\n",
    "---"
   ]
  },
  {
   "cell_type": "markdown",
   "metadata": {},
   "source": [
    "### **5 Exercício - Criando Webhooks (Escopo aberto)**"
   ]
  },
  {
   "cell_type": "markdown",
   "metadata": {},
   "source": [
    "<p align=\"center\">\n",
    "  <img \n",
    "    src   = \"https://i.imgur.com/mTjWRCu.png\" \n",
    "    style = \"\n",
    "      border: 0px solid rgba(0, 0, 0, 0.1);\n",
    "      border-radius: 25px; \n",
    "      width: 40%;\n",
    "      height: 40%;\n",
    "    \"\n",
    "  />\n",
    "</p>"
   ]
  },
  {
   "cell_type": "markdown",
   "metadata": {},
   "source": [
    "O objetivo desta tarefa é gerar randomicamente conjunto de dados para as entidades e para o relacionamento exibidos na imagem. Assim como há randomização na criação dos dados, também se deverá aplicar randomização na sua criação, isto é, em um determinado instante de tempo, um conjunto de dados no formato JSON (dicionário) deverá surgir e ser armazenado dentro de um arquivo (.txt, .csv etc.). Pense e estruture os atributos que deverão compor cada uma destas estruturas de dados.  "
   ]
  },
  {
   "cell_type": "markdown",
   "metadata": {},
   "source": [
    "---"
   ]
  },
  {
   "cell_type": "code",
   "execution_count": null,
   "metadata": {},
   "outputs": [],
   "source": [
    "def myfunc(n):\n",
    "  return lambda a : a * n\n",
    "\n",
    "mytripler = myfunc(n = 3)\n",
    "\n",
    "print(mytripler(11))"
   ]
  }
 ],
 "metadata": {
  "kernelspec": {
   "display_name": "Python 3.8.5 64-bit",
   "language": "python",
   "name": "python3"
  },
  "language_info": {
   "codemirror_mode": {
    "name": "ipython",
    "version": 3
   },
   "file_extension": ".py",
   "mimetype": "text/x-python",
   "name": "python",
   "nbconvert_exporter": "python",
   "pygments_lexer": "ipython3",
   "version": "3.8.5"
  },
  "orig_nbformat": 4,
  "vscode": {
   "interpreter": {
    "hash": "6a926afa313b26ae1264fdcf81c726a97e69f6ba2ba780f6aa901948710f8d6e"
   }
  }
 },
 "nbformat": 4,
 "nbformat_minor": 2
}
