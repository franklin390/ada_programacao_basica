{
 "cells": [
  {
   "cell_type": "markdown",
   "metadata": {},
   "source": [
    "# **Aula 00 - Lógica de programação: Apresentação**\n",
    "\n",
    "***04 de novembro de 2022***"
   ]
  },
  {
   "cell_type": "markdown",
   "metadata": {},
   "source": [
    "---\n",
    "\n",
    "<p align=\"center\">\n",
    "  <img \n",
    "    src   = \"https://cdn-icons-png.flaticon.com/512/1006/1006363.png\" \n",
    "    style = \"\n",
    "      border: 0px solid rgba(0, 0, 0, 0.01);\n",
    "      border-radius: 70px; \n",
    "      width: 25%;\n",
    "      height: 25%;\n",
    "    \"\n",
    "  />\n",
    "</p>\n",
    "\n",
    "---"
   ]
  },
  {
   "cell_type": "markdown",
   "metadata": {},
   "source": [
    "## **Professor**\n",
    "\n",
    "---"
   ]
  },
  {
   "cell_type": "markdown",
   "metadata": {},
   "source": [
    "**Franklin Ferreira**\n",
    "\n",
    "* A melhor forma de falar sobre mim está [aqui](https://franklin390.github.io/)."
   ]
  },
  {
   "cell_type": "markdown",
   "metadata": {},
   "source": [
    "## **Sobre vocês**\n",
    "\n",
    "---"
   ]
  },
  {
   "cell_type": "markdown",
   "metadata": {},
   "source": [
    "<p align=\"center\">\n",
    "  <img \n",
    "    src   = \"https://i.imgur.com/Hi0Z4y8.png\" \n",
    "    style = \"\n",
    "      border: 0px solid rgba(0, 0, 0, 0.01);\n",
    "      border-radius: 70px; \n",
    "      width: 25%;\n",
    "      height: 25%;\n",
    "    \"\n",
    "  />\n",
    "</p>"
   ]
  },
  {
   "cell_type": "markdown",
   "metadata": {},
   "source": [
    "## **Ementa**\n",
    "\n",
    "---"
   ]
  },
  {
   "cell_type": "markdown",
   "metadata": {},
   "source": [
    "1. Introdução à Python;\n",
    "2. Primeiros passos com Python;\n",
    "3. Entrada de Dados;\n",
    "4. Operadores aritméticos;\n",
    "5. Estruturas condicionais;\n",
    "6. Laços de repetição;\n",
    "7. Listas;\n",
    "8. Funções;\n",
    "9. Lidando com strings;\n",
    "10. Pacotes de terceiros;\n",
    "11. Gerenciamento de arquivos; e\n",
    "12. Passando argumentos para o sistema."
   ]
  },
  {
   "cell_type": "markdown",
   "metadata": {},
   "source": [
    "---"
   ]
  },
  {
   "cell_type": "markdown",
   "metadata": {},
   "source": [
    "## **Projetos**\n",
    "\n",
    "---"
   ]
  },
  {
   "cell_type": "markdown",
   "metadata": {},
   "source": [
    "* Os projetos do módulo estão disponíveis [aqui](https://docs.google.com/document/d/1zQUzkErR80Ud9M7W2bBRup6n8xqPFoBCni-XIWngQd0/edit).\n",
    "\n",
    "* Deve ser apresentado durante as duas últimas aulas do módulo; e\n",
    "\n",
    "* Os projetos devem ser feitos por grupos de 2 ou 3 pessoas."
   ]
  }
 ],
 "metadata": {
  "kernelspec": {
   "display_name": "Python 3.8.5 64-bit",
   "language": "python",
   "name": "python3"
  },
  "language_info": {
   "codemirror_mode": {
    "name": "ipython",
    "version": 3
   },
   "file_extension": ".py",
   "mimetype": "text/x-python",
   "name": "python",
   "nbconvert_exporter": "python",
   "pygments_lexer": "ipython3",
   "version": "3.8.5"
  },
  "orig_nbformat": 4,
  "vscode": {
   "interpreter": {
    "hash": "6a926afa313b26ae1264fdcf81c726a97e69f6ba2ba780f6aa901948710f8d6e"
   }
  }
 },
 "nbformat": 4,
 "nbformat_minor": 2
}
