{
 "cells": [
  {
   "cell_type": "markdown",
   "id": "49b7e916",
   "metadata": {},
   "source": [
    "# **Aula 02 - Exercícios**\n",
    "\n",
    "***09 de novembro de 2022***"
   ]
  },
  {
   "cell_type": "markdown",
   "id": "2204dfce",
   "metadata": {},
   "source": [
    "---\n",
    "\n",
    "<p align=\"center\">\n",
    "  <img \n",
    "    src   = \"https://cdn-icons-png.flaticon.com/512/1006/1006363.png\" \n",
    "    style = \"\n",
    "      border: 0px solid rgba(0, 0, 0, 0.01);\n",
    "      border-radius: 70px; \n",
    "      width: 25%;\n",
    "      height: 25%;\n",
    "    \"\n",
    "  />\n",
    "</p>\n",
    "\n",
    "---"
   ]
  },
  {
   "cell_type": "markdown",
   "id": "9f485e41",
   "metadata": {},
   "source": [
    "## **Exercícios**\n",
    "\n",
    "---"
   ]
  },
  {
   "cell_type": "markdown",
   "id": "5d18fb7c",
   "metadata": {},
   "source": [
    "### **Voltando no tempo (Aquecimento)**"
   ]
  },
  {
   "cell_type": "markdown",
   "id": "f3b4947b",
   "metadata": {},
   "source": [
    "<p align=\"center\">\n",
    "  <img \n",
    "    src   = \"https://cdn-icons-png.flaticon.com/512/4357/4357645.png\" \n",
    "    style = \"\n",
    "      border: 0px solid rgba(0, 0, 0, 0.1);\n",
    "      border-radius: 25px; \n",
    "      width: 10%;\n",
    "      height: 10%;\n",
    "    \"\n",
    "  />\n",
    "</p>\n"
   ]
  },
  {
   "cell_type": "markdown",
   "id": "7421d8e9",
   "metadata": {},
   "source": [
    "1. A Roma Antiga desenvolveu seu sistema de numeração que até hoje é conhecida, chamado de Numeração Romana. Por mais que não seja amplamente utilizada hoje em dia, provavelmente você aprendeu quando criança sobre esse sistema e como utilizá-lo. Mesmo assim,  em diversos escritos mais antigos nós podemos encontrar esse tipo de sistema numérico, que não é tão simples para traduzirmos diretamente como o nosso sistema indo-arábico, que usamos hoje em dia. Para auxiliar o pessoal que precisa ter essa transcrição de números romanos, crie uma função que faça a tradução do sistema arábico para o nosso sistema atual.\n",
    "      Dica #1: Faça uso de dicionário.\n",
    "      Dica #2: Fique atento em alguns casos especiais. Por exemplo, 'IV' é 4, 'IX' é 9, 'XL' é 40, 'XC' é 90, 'CD' é 400 e 'CM' é 900.\n",
    "\n",
    "2. Em seguida, faça uma função que implemente exatamente o oposto do caso anterior (isto é, converter um número indo-arábico para romano).\n",
    "\n",
    "3. Suponha que você esteja encarregado de melhorar a estrutura de dados utilizada na empresa para o armazenamento de informação de logística. Até o momento, existe uma função (que não é de intereses nosso) que retorna uma lista de listas de entregas realizadas. Cada lista possui a estrutura [Entregador, Data, Município Origem, Município Destino, Produto]. Crie um programa que mude a estrutura dos dados para a seguinte forma:\n",
    "Entregadores:\n",
    "\t- Entregador:\n",
    "\t\t- Data:\n",
    "\t\t\t- Entregas: [Município de Origem, Destino e Produto]"
   ]
  },
  {
   "cell_type": "markdown",
   "id": "16fc53f9",
   "metadata": {},
   "source": [
    "### **Cadastro de animais**\n",
    "\n",
    "<p align=\"center\">\n",
    "  <img \n",
    "    src   = \"https://cdn-icons-png.flaticon.com/512/616/616408.png\" \n",
    "    style = \"\n",
    "      border: 0px solid rgba(0, 0, 0, 0.1);\n",
    "      border-radius: 25px; \n",
    "      width: 10%;\n",
    "      height: 10%;\n",
    "    \"\n",
    "  />\n",
    "</p>\n",
    "\n",
    "4. Você está trabalhando na construção de um sistema para cadastro de adoção de animais, e pretende criar fichas para cada um desses animais, de acordo com as informações recebidas de pessoas que os resgataram. Crie uma função que gere um cadastro para o animal. O cadastro deve obrigatoriamente conter o nome e o tipo de animal (cachorro, gato, etc), mas outras características também podem ser aceitas, como Idade, se já é vermifugado, etc. Essas informações tratadas serão enviadas para a função generate_card, que aceita todos os parâmetros escolhidos para a composição do cadastro."
   ]
  },
  {
   "cell_type": "markdown",
   "id": "bc9e0c8d",
   "metadata": {},
   "source": [
    "**Desafio - Mercado Bitcoin (Escopo aberto)**\n",
    "\n",
    "<p align=\"center\">\n",
    "  <img \n",
    "    src   = \"https://cdn-icons-png.flaticon.com/512/1797/1797330.png\" \n",
    "    style = \"\n",
    "      border: 0px solid rgba(0, 0, 0, 0.1);\n",
    "      border-radius: 25px; \n",
    "      width: 10%;\n",
    "      height: 10%;\n",
    "    \"\n",
    "  />\n",
    "</p>\n",
    "\n",
    "Capture e armazene os dados do Mercado Bitcoin, seguindo os seguintes requisitos:\n",
    "* 1. Crie uma função, que implemente compressão de listas para extrair dados de ao menos 3 criptomoedas;\n",
    "* 2. Crie uma função, que aplique alguma estrutura (alguma limpeza) sobre os dados capturados e os armazene dentro de um arquivo (.csv, .txt, etc.); e\n",
    "* 3. Crie uma estratégia que te permita extrair os dados ao menos 5 vezes, durante um  período de tempo regularmente espaçado (1 extração por segundo, 1 extração por minuto, etc.);\n",
    "\n",
    "Consulte o link da documentação do Mercado Bitcoin [aqui](https://www.mercadobitcoin.com.br/api-doc/) e [aqui](https://www.mercadobitcoin.com.br/trade-api/)."
   ]
  },
  {
   "cell_type": "code",
   "execution_count": 1,
   "id": "0bf9629c",
   "metadata": {},
   "outputs": [
    {
     "data": {
      "text/plain": [
       "{'ticker': {'high': '99675.00000000',\n",
       "  'low': '83000.05000000',\n",
       "  'vol': '171.95012907',\n",
       "  'last': '83381.56062999',\n",
       "  'buy': '83240.24182001',\n",
       "  'sell': '83422.39784211',\n",
       "  'open': '98072.33479475',\n",
       "  'date': 1668031084}}"
      ]
     },
     "execution_count": 1,
     "metadata": {},
     "output_type": "execute_result"
    }
   ],
   "source": [
    "import requests\n",
    "\n",
    "requests.get('https://www.mercadobitcoin.net/api/BTC/ticker/').json()"
   ]
  }
 ],
 "metadata": {
  "kernelspec": {
   "display_name": "Python ('tf')",
   "language": "python",
   "name": "python3"
  },
  "language_info": {
   "codemirror_mode": {
    "name": "ipython",
    "version": 3
   },
   "file_extension": ".py",
   "mimetype": "text/x-python",
   "name": "python",
   "nbconvert_exporter": "python",
   "pygments_lexer": "ipython3",
   "version": "3.7.7"
  },
  "varInspector": {
   "cols": {
    "lenName": 16,
    "lenType": 16,
    "lenVar": 40
   },
   "kernels_config": {
    "python": {
     "delete_cmd_postfix": "",
     "delete_cmd_prefix": "del ",
     "library": "var_list.py",
     "varRefreshCmd": "print(var_dic_list())"
    },
    "r": {
     "delete_cmd_postfix": ") ",
     "delete_cmd_prefix": "rm(",
     "library": "var_list.r",
     "varRefreshCmd": "cat(var_dic_list()) "
    }
   },
   "types_to_exclude": [
    "module",
    "function",
    "builtin_function_or_method",
    "instance",
    "_Feature"
   ],
   "window_display": false
  },
  "vscode": {
   "interpreter": {
    "hash": "25a19fbe0a9132dfb9279d48d161753c6352f8f9478c2e74383d340069b907c3"
   }
  }
 },
 "nbformat": 4,
 "nbformat_minor": 5
}
